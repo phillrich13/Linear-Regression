{
 "cells": [
  {
   "cell_type": "markdown",
   "metadata": {},
   "source": [
    "## Overall goal\n",
    "\n",
    "To be able to predict home stadium attendance (regardless of team?)\n",
    "\n",
    "## Data\n",
    "\n",
    "[game by game data](https://www.baseball-reference.com/teams/ARI/2019-schedule-scores.shtml) as well as [historical weather data](https://www.wunderground.com/history/monthly/KPHX/date/2019-5)\n",
    "\n",
    "## Potential Features\n",
    "\n",
    "* W/L %\n",
    "* Avg Runs Scored (per game)\n",
    "* Avg Runs Allowed (per game)\n",
    "* Temperature (daily high)\n",
    "* Precipitation\n",
    "* Opponent W/L %\n",
    "* Prior game (if home) had extra innings\n",
    "* Weekend/weekday indicator\n",
    "* Day or night game\n",
    "    * interaction between D/N and Weekend (?)\n",
    "* Current W/L Streak (5 wins in a row = 5, 5 losses in a row = -5)\n",
    "* Games behind Division leader\n"
   ]
  },
  {
   "cell_type": "code",
   "execution_count": null,
   "metadata": {},
   "outputs": [],
   "source": []
  }
 ],
 "metadata": {
  "kernelspec": {
   "display_name": "Python 3",
   "language": "python",
   "name": "python3"
  },
  "language_info": {
   "codemirror_mode": {
    "name": "ipython",
    "version": 3
   },
   "file_extension": ".py",
   "mimetype": "text/x-python",
   "name": "python",
   "nbconvert_exporter": "python",
   "pygments_lexer": "ipython3",
   "version": "3.8.5"
  }
 },
 "nbformat": 4,
 "nbformat_minor": 4
}
